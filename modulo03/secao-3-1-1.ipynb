{
 "cells": [
  {
   "cell_type": "markdown",
   "metadata": {},
   "source": [
    "# Tomada de decisão\n",
    "## Operaçoes relacionais\n",
    "### Operador de igualdade (==)"
   ]
  },
  {
   "cell_type": "code",
   "execution_count": 3,
   "metadata": {},
   "outputs": [
    {
     "name": "stdout",
     "output_type": "stream",
     "text": [
      "False\n",
      "True\n",
      "True\n",
      "True\n"
     ]
    }
   ],
   "source": [
    "print( 1 ==2 ) #falso\n",
    "print( 1 == 1) #verdadeiro\n",
    "print( 1 == 1.0) #verdadeiro\n",
    "print( 2 == 0b10 ) #verdadeiro (binary 2)"
   ]
  },
  {
   "cell_type": "markdown",
   "metadata": {},
   "source": [
    "### Operador de desigualdade ( != )\n"
   ]
  },
  {
   "cell_type": "code",
   "execution_count": 4,
   "metadata": {},
   "outputs": [
    {
     "name": "stdout",
     "output_type": "stream",
     "text": [
      "True\n",
      "False\n",
      "False\n",
      "False\n"
     ]
    }
   ],
   "source": [
    "print( 1 !=2 )\n",
    "print( 1 != 1)\n",
    "print( 1 != 1.0)\n",
    "print( 2 != 0b10 ) "
   ]
  },
  {
   "cell_type": "markdown",
   "metadata": {},
   "source": [
    "### Operador maior que (>) e maior que a (<>)"
   ]
  },
  {
   "cell_type": "code",
   "execution_count": null,
   "metadata": {},
   "outputs": [
    {
     "name": "stdout",
     "output_type": "stream",
     "text": [
      "False\n",
      "True\n",
      "True\n",
      "True\n"
     ]
    }
   ],
   "source": [
    "print ( 1> 2 )\n",
    "print ( 2 > 1 )\n",
    "print ( 2 >= 1 )\n",
    "print ( 2 >= 0b10 )# binary 2"
   ]
  },
  {
   "cell_type": "markdown",
   "metadata": {},
   "source": [
    "### Operardor menor que (<) e menor a ( <= )"
   ]
  },
  {
   "cell_type": "code",
   "execution_count": null,
   "metadata": {},
   "outputs": [
    {
     "name": "stdout",
     "output_type": "stream",
     "text": [
      "True\n",
      "False\n",
      "False\n",
      "True\n"
     ]
    }
   ],
   "source": [
    "print ( 1 < 2 ) # verdadeiro\n",
    "print ( 2 < 1 ) # false\n",
    "print ( 2 <= 1 ) # false\n",
    "print ( 2 <= 0b10 ) # binary 2"
   ]
  },
  {
   "cell_type": "markdown",
   "metadata": {},
   "source": [
    "#### Atualizando a lista de priodades de operadores\n",
    "| seq | Operador | Descrição |\n",
    "| - | - | - |\n",
    "| 1 | ** | Exponenciação |\n",
    "| 2 | +,- | Unario Sinal |\n",
    "| 3 | *,/,//,% | Multiplicação, Divisão, Resto |\n",
    "| 4 | +,- | Soma e  subtraçao |\n",
    "| 5 | >, >=, <, <= | MAior, maior igual, menor, menor igual |\n",
    "| 6 | ==, != | Igual e Diferente |"
   ]
  },
  {
   "cell_type": "markdown",
   "metadata": {},
   "source": [
    "### Operador if ( Se )\n",
    "sinrase :\n",
    " if condição_verdade:\n",
    "     comando_a_ser_executado1()\n",
    "     comando_a_ser_executado2()\n",
    "     if comandado2:\n",
    "         comandado_03()"
   ]
  },
  {
   "cell_type": "code",
   "execution_count": null,
   "metadata": {},
   "outputs": [
    {
     "name": "stdout",
     "output_type": "stream",
     "text": [
      "você é maior de idade\n",
      "você pode dirigir, se habilitado\n",
      "fim do programa\n"
     ]
    }
   ],
   "source": [
    "idade= int(input(\"digite sua idade\"))\n",
    "if idade >= 18:\n",
    "     print(\"você é maior de idade\")\n",
    "     print(\"você pode dirigir, se habilitado!\")\n",
    "print(\"fim do programa\")  "
   ]
  },
  {
   "cell_type": "markdown",
   "metadata": {},
   "source": [
    "### Instrucão else"
   ]
  },
  {
   "cell_type": "code",
   "execution_count": null,
   "metadata": {},
   "outputs": [
    {
     "name": "stdout",
     "output_type": "stream",
     "text": [
      "você é menor de idade\n",
      "você não pode dirigir, se habilitado!\n",
      "fim do programa\n"
     ]
    }
   ],
   "source": [
    "idade= int(input(\"digite sua idade\"))\n",
    "if idade >= 18:\n",
    "     print(\"você é maior de idade\")\n",
    "     print(\"você pode dirigir, se habilitado!\")\n",
    "else: #se nao executar o if\n",
    "     print(\"você é menor de idade\")\n",
    "     print(\"você não pode dirigir, se habilitado!\")\n",
    "print(\"fim do programa\")  \n",
    "\n",
    "\n",
    "          "
   ]
  },
  {
   "cell_type": "markdown",
   "metadata": {},
   "source": [
    "### If encadeado"
   ]
  },
  {
   "cell_type": "code",
   "execution_count": 16,
   "metadata": {},
   "outputs": [
    {
     "name": "stdout",
     "output_type": "stream",
     "text": [
      "você é menor de idade\n",
      "você não pode dirigir, se habilitado!\n",
      "fim do programa\n"
     ]
    }
   ],
   "source": [
    "idade= int(input(\"digite sua idade\"))\n",
    "if idade >= 18:\n",
    "     print(\"você é maior de idade\")\n",
    "     print(\"você pode dirigir, se habilitado!\")\n",
    "     if idade >= 70:\n",
    "        print(\"voce deve fazer exames medicos anuais\")\n",
    "     else:\n",
    "         if idade >= 65:\n",
    "             print(\"voce deve fazer exames medicos a cada 2 anos\")   \n",
    "else: #se nao executar o if\n",
    "     print(\"você é menor de idade\")\n",
    "     print(\"você não pode dirigir, se habilitado!\")\n",
    "print(\"fim do programa\") "
   ]
  },
  {
   "cell_type": "markdown",
   "metadata": {},
   "source": [
    "### instrução elif (else e if)"
   ]
  },
  {
   "cell_type": "code",
   "execution_count": 20,
   "metadata": {},
   "outputs": [
    {
     "name": "stdout",
     "output_type": "stream",
     "text": [
      "você é menor de idade\n"
     ]
    }
   ],
   "source": [
    "idade= int(input(\"digite sua idade\"))\n",
    "if idade >= 70:\n",
    "     print (\"voce e maior de idade\")\n",
    "     print(\"voce pode dirigir, se habilitado1\")\n",
    "     print(\"voce deve faze exames anuais\")\n",
    "elif idade >= 65:\n",
    "     print(\"voce e maior de idade\") \n",
    "     print(\"voce pode dirigir,se habilitado!\")\n",
    "     print(\"voce deve fazer exames medicos a cada 2 anos\")    \n",
    "elif idade >= 18:\n",
    "     print(\"você é maior de idade\")\n",
    "     print(\"você pode dirigir, se habilitado!\")\n",
    "else:\n",
    "     print (\"você é menor de idade\")     \n"
   ]
  },
  {
   "cell_type": "code",
   "execution_count": 22,
   "metadata": {},
   "outputs": [
    {
     "name": "stdout",
     "output_type": "stream",
     "text": [
      "O maior numero é: 6\n"
     ]
    }
   ],
   "source": [
    "# Obtendo o maior numero entre 2 numeros\n",
    "num1 = int(input(\"Digite o primeiro número: \"))\n",
    "num2 = int(input(\"Digite o segundo número: \"))\n",
    "maior = num1\n",
    "if num2 > maior :\n",
    "    maior = num2\n",
    "print(\"O maior numero é:\", maior)"
   ]
  },
  {
   "cell_type": "code",
   "execution_count": 1,
   "metadata": {},
   "outputs": [
    {
     "name": "stdout",
     "output_type": "stream",
     "text": [
      "O maior numero é: 250\n"
     ]
    }
   ],
   "source": [
    "# Obtendo o maior numero entre 3 numeros\n",
    "num1 = int(input(\"Digite o primeiro número: \"))\n",
    "num2 = int(input(\"Digite o segundo número: \"))\n",
    "num3 = int(input(\"Digite o terceiro número: \"))\n",
    "maior = num1\n",
    "if num2 > maior :\n",
    "    maior = num2\n",
    "if num3 > maior:\n",
    "    maior > num3    \n",
    "print(\"O maior numero é:\", maior)"
   ]
  },
  {
   "cell_type": "code",
   "execution_count": null,
   "metadata": {},
   "outputs": [],
   "source": [
    "# uso do if com strings\n",
    "nome = input (\"digite seu nome\")\n",
    "nome2 = input (\"digite ou nome\")\n",
    "if nome> nome2\n",
    "    print(nome,\"maior que\", nome2)\n",
    "else:\n",
    "    print(nome2,\"é maior que ou igual a \", nome)  # ele utiliza tabela ASCII 'A' vem primeiro primeiro do que o 'a'"
   ]
  },
  {
   "cell_type": "code",
   "execution_count": null,
   "metadata": {},
   "outputs": [
    {
     "name": "stdout",
     "output_type": "stream",
     "text": [
      "Sim - Spathiphyllum é a melhor planta de todos os tempos!\n"
     ]
    }
   ],
   "source": [
    "# Lab 3.1.10\n",
    "\n",
    "name = input(\"Insira o nome da flor: \")\n",
    "\n",
    "if name == \"Spathiphyllum\":\n",
    "    print(\"Sim - Spathiphyllum é a melhor planta de todos os tempos!\")\n",
    "elif name == \"spathiphyllum\":\n",
    "    print(\"Não, eu quero uma grande Spathiphyllum!\")\n",
    "else:\n",
    "    print(\"Spathiphyllum! Não\", name + \"!\")\n",
    "\t"
   ]
  },
  {
   "cell_type": "code",
   "execution_count": 9,
   "metadata": {},
   "outputs": [
    {
     "ename": "SyntaxError",
     "evalue": "expected ':' (612270009.py, line 3)",
     "output_type": "error",
     "traceback": [
      "  \u001b[36mCell\u001b[39m\u001b[36m \u001b[39m\u001b[32mIn[9]\u001b[39m\u001b[32m, line 3\u001b[39m\n\u001b[31m    \u001b[39m\u001b[31mif print(\"Adriano\")\u001b[39m\n                       ^\n\u001b[31mSyntaxError\u001b[39m\u001b[31m:\u001b[39m expected ':'\n"
     ]
    }
   ],
   "source": [
    "#teste meu\n",
    "adriano = input(\"digite o nome: \")\n",
    "if print(\"Adriano\")\n",
    "else:\n",
    "    print(\"não esta correto\")"
   ]
  },
  {
   "cell_type": "code",
   "execution_count": 8,
   "metadata": {},
   "outputs": [
    {
     "name": "stdout",
     "output_type": "stream",
     "text": [
      "24\n"
     ]
    }
   ],
   "source": [
    "x = input()\n",
    "y = input()\n",
    "print(x + y)"
   ]
  },
  {
   "attachments": {
    "image.png": {
     "image/png": "[encoded data removed]"
    }
   },
   "cell_type": "markdown",
   "metadata": {},
   "source": [
    "# Laboratorio 3-1-11\n",
    "#### se a renda do cidadão não era superior a 85.528 talões\n",
    "#### o imposto era igual a 18% da renda, menos 556 taller e 2 centavos \n",
    "#### (isso era o que eles chamavam de isenção de imposto)\n",
    "#### se a receita fosse superior a esse valor, o imposto seria \n",
    "#### igual a 14.839 talões e 2 centavos, mais 32% do excedente em mais de 85.528 taller\n",
    "![image.png](attachment:image.png)"
   ]
  },
  {
   "cell_type": "code",
   "execution_count": 21,
   "metadata": {},
   "outputs": [
    {
     "name": "stdout",
     "output_type": "stream",
     "text": [
      "A taxa é: 0 thalers\n"
     ]
    }
   ],
   "source": [
    "income = float(input(\"Entre com os rendimentos \"))\n",
    "\n",
    "if income < 85528:\n",
    "    tax = income * 0.18 - 556.02\n",
    "else:\n",
    "    tax = 14839.02 + (income - 85528) * 0.32\n",
    "\n",
    "if tax < 0:\n",
    "    tax = 0\n",
    "tax = round (tax, 0)    \n",
    "print(\n",
    " \"A taxa é:\", tax, \"thalers\")\n",
    "\n"
   ]
  },
  {
   "cell_type": "markdown",
   "metadata": {},
   "source": [
    "# Lab 3.1.12\n",
    "Como você certamente sabe, devido a algumas razões astronômicas, os anos podem ser bissextos ou comuns. Os primeiros têm 366 dias, enquanto os segundos têm 365 dias.\n",
    "\n",
    "Desde a introdução do calendário gregoriano (em 1582), a regra a seguir é usada para determinar o tipo de ano:\n",
    "\n",
    "se o número do ano não é divisível por quatro, é um ano comum;\n",
    "caso contrário, se o número do ano não for divisível por 100, será um ano bissexto;\n",
    "caso contrário, se o número do ano não for divisível por 400, é um ano comum ;\n",
    "caso contrário, é um ano bissexto ."
   ]
  },
  {
   "cell_type": "code",
   "execution_count": 43,
   "metadata": {},
   "outputs": [
    {
     "name": "stdout",
     "output_type": "stream",
     "text": [
      "ano comum\n"
     ]
    }
   ],
   "source": [
    "year = int(input(\"Digite um ano: \"))\n",
    "\n",
    "if year < 1582:\n",
    " print(\"Não dentro do período do calendário gregoriano\")\n",
    "else:\n",
    "   if year % 4 != 0:\n",
    "     print(\"ano comum\")\n",
    "   elif year % 100 != 0:\n",
    "     print(\"Ano bissexto\")\n",
    "   elif year % 400 != 0:\n",
    "     print(\"ano comum\")\n",
    "   else:\n",
    "     print(\"Ano bissexto\") \n",
    "     "
   ]
  },
  {
   "cell_type": "code",
   "execution_count": null,
   "metadata": {},
   "outputs": [],
   "source": [
    "# multipla atribuição\n",
    "a, b, c = 1, 2, 3\n",
    "# valores de a = 5, b = 6 , faça uma permuta\n",
    "a = 5\n",
    "b = 6\n",
    "# Efetuando a troca\n",
    "apoio = a\n",
    "a=b\n",
    "b= apoio \n",
    "#efetuando a permuta no python\n",
    "a, b = b, a"
   ]
  }
 ],
 "metadata": {
  "kernelspec": {
   "display_name": ".venv",
   "language": "python",
   "name": "python3"
  },
  "language_info": {
   "codemirror_mode": {
    "name": "ipython",
    "version": 3
   },
   "file_extension": ".py",
   "mimetype": "text/x-python",
   "name": "python",
   "nbconvert_exporter": "python",
   "pygments_lexer": "ipython3",
   "version": "3.13.2"
  }
 },
 "nbformat": 4,
 "nbformat_minor": 2
}
