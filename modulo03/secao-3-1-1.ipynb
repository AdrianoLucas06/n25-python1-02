{
 "cells": [
  {
   "cell_type": "markdown",
   "metadata": {},
   "source": [
    "# Tomada de decisão\n",
    "## Operaçoes relacionais\n",
    "### Operador de igualdade (==)"
   ]
  },
  {
   "cell_type": "code",
   "execution_count": 3,
   "metadata": {},
   "outputs": [
    {
     "name": "stdout",
     "output_type": "stream",
     "text": [
      "False\n",
      "True\n",
      "True\n",
      "True\n"
     ]
    }
   ],
   "source": [
    "print( 1 ==2 ) #falso\n",
    "print( 1 == 1) #verdadeiro\n",
    "print( 1 == 1.0) #verdadeiro\n",
    "print( 2 == 0b10 ) #verdadeiro (binary 2)"
   ]
  },
  {
   "cell_type": "markdown",
   "metadata": {},
   "source": [
    "### Operador de desigualdade ( != )\n"
   ]
  },
  {
   "cell_type": "code",
   "execution_count": 4,
   "metadata": {},
   "outputs": [
    {
     "name": "stdout",
     "output_type": "stream",
     "text": [
      "True\n",
      "False\n",
      "False\n",
      "False\n"
     ]
    }
   ],
   "source": [
    "print( 1 !=2 )\n",
    "print( 1 != 1)\n",
    "print( 1 != 1.0)\n",
    "print( 2 != 0b10 ) "
   ]
  },
  {
   "cell_type": "markdown",
   "metadata": {},
   "source": [
    "### Operador maior que (>) e maior que a (<>)"
   ]
  },
  {
   "cell_type": "code",
   "execution_count": null,
   "metadata": {},
   "outputs": [
    {
     "name": "stdout",
     "output_type": "stream",
     "text": [
      "False\n",
      "True\n",
      "True\n",
      "True\n"
     ]
    }
   ],
   "source": [
    "print ( 1> 2 )\n",
    "print ( 2 > 1 )\n",
    "print ( 2 >= 1 )\n",
    "print ( 2 >= 0b10 )# binary 2"
   ]
  },
  {
   "cell_type": "markdown",
   "metadata": {},
   "source": [
    "### Operardor menor que (<) e menor a ( <= )"
   ]
  },
  {
   "cell_type": "code",
   "execution_count": null,
   "metadata": {},
   "outputs": [
    {
     "name": "stdout",
     "output_type": "stream",
     "text": [
      "True\n",
      "False\n",
      "False\n",
      "True\n"
     ]
    }
   ],
   "source": [
    "print ( 1 < 2 ) # verdadeiro\n",
    "print ( 2 < 1 ) # false\n",
    "print ( 2 <= 1 ) # false\n",
    "print ( 2 <= 0b10 ) # binary 2"
   ]
  },
  {
   "cell_type": "markdown",
   "metadata": {},
   "source": [
    "#### Atualizando a lista de priodades de operadores\n",
    "| seq | Operador | Descrição |\n",
    "| - | - | - |\n",
    "| 1 | ** | Exponenciação |\n",
    "| 2 | +,- | Unario Sinal |\n",
    "| 3 | *,/,//,% | Multiplicação, Divisão, Resto |\n",
    "| 4 | +,- | Soma e  subtraçao |\n",
    "| 5 | >, >=, <, <= | MAior, maior igual, menor, menor igual |\n",
    "| 6 | ==, != | Igual e Diferente |"
   ]
  },
  {
   "cell_type": "markdown",
   "metadata": {},
   "source": [
    "### Operador if ( Se )\n",
    "sinrase :\n",
    " if condição_verdade:\n",
    "     comando_a_ser_executado1()\n",
    "     comando_a_ser_executado2()\n",
    "     if comandado2:\n",
    "         comandado_03()"
   ]
  },
  {
   "cell_type": "code",
   "execution_count": null,
   "metadata": {},
   "outputs": [
    {
     "name": "stdout",
     "output_type": "stream",
     "text": [
      "você é maior de idade\n",
      "você pode dirigir, se habilitado\n",
      "fim do programa\n"
     ]
    }
   ],
   "source": [
    "idade= int(input(\"digite sua idade\"))\n",
    "if idade >= 18:\n",
    "     print(\"você é maior de idade\")\n",
    "     print(\"você pode dirigir, se habilitado!\")\n",
    "print(\"fim do programa\")  "
   ]
  },
  {
   "cell_type": "markdown",
   "metadata": {},
   "source": [
    "### Instrucão else"
   ]
  },
  {
   "cell_type": "code",
   "execution_count": null,
   "metadata": {},
   "outputs": [
    {
     "name": "stdout",
     "output_type": "stream",
     "text": [
      "você é menor de idade\n",
      "você não pode dirigir, se habilitado!\n",
      "fim do programa\n"
     ]
    }
   ],
   "source": [
    "idade= int(input(\"digite sua idade\"))\n",
    "if idade >= 18:\n",
    "     print(\"você é maior de idade\")\n",
    "     print(\"você pode dirigir, se habilitado!\")\n",
    "else: #se nao executar o if\n",
    "     print(\"você é menor de idade\")\n",
    "     print(\"você não pode dirigir, se habilitado!\")\n",
    "print(\"fim do programa\")  \n",
    "\n",
    "\n",
    "          "
   ]
  },
  {
   "cell_type": "markdown",
   "metadata": {},
   "source": [
    "### If encadeado"
   ]
  },
  {
   "cell_type": "code",
   "execution_count": 16,
   "metadata": {},
   "outputs": [
    {
     "name": "stdout",
     "output_type": "stream",
     "text": [
      "você é menor de idade\n",
      "você não pode dirigir, se habilitado!\n",
      "fim do programa\n"
     ]
    }
   ],
   "source": [
    "idade= int(input(\"digite sua idade\"))\n",
    "if idade >= 18:\n",
    "     print(\"você é maior de idade\")\n",
    "     print(\"você pode dirigir, se habilitado!\")\n",
    "     if idade >= 70:\n",
    "        print(\"voce deve fazer exames medicos anuais\")\n",
    "     else:\n",
    "         if idade >= 65:\n",
    "             print(\"voce deve fazer exames medicos a cada 2 anos\")   \n",
    "else: #se nao executar o if\n",
    "     print(\"você é menor de idade\")\n",
    "     print(\"você não pode dirigir, se habilitado!\")\n",
    "print(\"fim do programa\") "
   ]
  },
  {
   "cell_type": "markdown",
   "metadata": {},
   "source": [
    "### instrução elif (else e if)"
   ]
  },
  {
   "cell_type": "code",
   "execution_count": 20,
   "metadata": {},
   "outputs": [
    {
     "name": "stdout",
     "output_type": "stream",
     "text": [
      "você é menor de idade\n"
     ]
    }
   ],
   "source": [
    "idade= int(input(\"digite sua idade\"))\n",
    "if idade >= 70:\n",
    "     print (\"voce e maior de idade\")\n",
    "     print(\"voce pode dirigir, se habilitado1\")\n",
    "     print(\"voce deve faze exames anuais\")\n",
    "elif idade >= 65:\n",
    "     print(\"voce e maior de idade\") \n",
    "     print(\"voce pode dirigir,se habilitado!\")\n",
    "     print(\"voce deve fazer exames medicos a cada 2 anos\")    \n",
    "elif idade >= 18:\n",
    "     print(\"você é maior de idade\")\n",
    "     print(\"você pode dirigir, se habilitado!\")\n",
    "else:\n",
    "     print (\"você é menor de idade\")     \n"
   ]
  },
  {
   "cell_type": "code",
   "execution_count": 22,
   "metadata": {},
   "outputs": [
    {
     "name": "stdout",
     "output_type": "stream",
     "text": [
      "O maior numero é: 6\n"
     ]
    }
   ],
   "source": [
    "# Obtendo o maior numero entre 2 numeros\n",
    "num1 = int(input(\"Digite o primeiro número: \"))\n",
    "num2 = int(input(\"Digite o segundo número: \"))\n",
    "maior = num1\n",
    "if num2 > maior :\n",
    "    maior = num2\n",
    "print(\"O maior numero é:\", maior)"
   ]
  },
  {
   "cell_type": "code",
   "execution_count": 25,
   "metadata": {},
   "outputs": [
    {
     "name": "stdout",
     "output_type": "stream",
     "text": [
      "O maior numero é: 8\n"
     ]
    }
   ],
   "source": [
    "# Obtendo o maior numero entre 3 numeros\n",
    "num1 = int(input(\"Digite o primeiro número: \"))\n",
    "num2 = int(input(\"Digite o segundo número: \"))\n",
    "num3 = int(input(\"Digite o terceiro número: \"))\n",
    "maior = num1\n",
    "if num2 > maior :\n",
    "    maior = num2\n",
    "if num3 > maior:\n",
    "    maior > num3    \n",
    "print(\"O maior numero é:\", maior)"
   ]
  }
 ],
 "metadata": {
  "kernelspec": {
   "display_name": ".venv",
   "language": "python",
   "name": "python3"
  },
  "language_info": {
   "codemirror_mode": {
    "name": "ipython",
    "version": 3
   },
   "file_extension": ".py",
   "mimetype": "text/x-python",
   "name": "python",
   "nbconvert_exporter": "python",
   "pygments_lexer": "ipython3",
   "version": "3.13.2"
  }
 },
 "nbformat": 4,
 "nbformat_minor": 2
}
