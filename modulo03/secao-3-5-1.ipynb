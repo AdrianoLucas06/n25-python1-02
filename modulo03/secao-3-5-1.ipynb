{
 "cells": [
  {
   "cell_type": "markdown",
   "metadata": {},
   "source": [
    "# 3.5.1 - Ordenando lista"
   ]
  },
  {
   "cell_type": "code",
   "execution_count": 14,
   "metadata": {},
   "outputs": [
    {
     "name": "stdout",
     "output_type": "stream",
     "text": [
      "[2, 4, 6, 8, 10, 10]\n"
     ]
    }
   ],
   "source": [
    "# Ordenação BubbleSort\n",
    "lista = [10, 8, 10, 6, 2, 4]\n",
    "troca = True\n",
    "while troca: \n",
    "     troca = False\n",
    "     for i in range(len(lista)-1):\n",
    "        if lista[i] > lista[i+1]:\n",
    "            lista[i], lista[i+1] = lista[i+1], lista[i] # permuta\n",
    "            troca = True\n",
    "print(lista)"
   ]
  },
  {
   "cell_type": "code",
   "execution_count": 18,
   "metadata": {},
   "outputs": [
    {
     "name": "stdout",
     "output_type": "stream",
     "text": [
      "trocas: 3\n",
      "trocas: 3\n",
      "trocas: 2\n",
      "trocas: 0\n",
      "[2, 4, 6, 8, 10]\n"
     ]
    }
   ],
   "source": [
    "# Ordenação BubbleSort (crescente)\n",
    "lista = [8, 10, 6, 2, 4]\n",
    "troca = True\n",
    "while troca: \n",
    "     qtde = 0\n",
    "     troca = False\n",
    "     for i in range(len(lista)-1):\n",
    "        if lista[i] > lista[i+1]:\n",
    "            lista[i], lista[i+1] = lista[i+1], lista[i] # permuta\n",
    "            troca = True\n",
    "            qtde += 1\n",
    "     print(\"trocas:\", qtde)        \n",
    "print(lista)"
   ]
  },
  {
   "cell_type": "code",
   "execution_count": 17,
   "metadata": {},
   "outputs": [
    {
     "name": "stdout",
     "output_type": "stream",
     "text": [
      "trocas: 2\n",
      "trocas: 0\n",
      "[10, 8, 6, 4, 2]\n"
     ]
    }
   ],
   "source": [
    "# Ordenação BubbleSort (decrescente)\n",
    "lista = [8, 10, 6, 2, 4]\n",
    "troca = True\n",
    "while troca: \n",
    "     qtde = 0\n",
    "     troca = False\n",
    "     for i in range(len(lista)-1):\n",
    "        if lista[i] < lista[i+1]:\n",
    "            lista[i], lista[i+1] = lista[i+1], lista[i] # permuta\n",
    "            troca = True\n",
    "            qtde += 1\n",
    "     print(\"trocas:\", qtde)        \n",
    "print(lista)"
   ]
  },
  {
   "cell_type": "code",
   "execution_count": 20,
   "metadata": {},
   "outputs": [
    {
     "name": "stdout",
     "output_type": "stream",
     "text": [
      "[2, 4, 6, 8, 10]\n",
      "[10, 8, 6, 4, 2]\n"
     ]
    }
   ],
   "source": [
    "# Exemplo simplificado\n",
    "lista = [8,10,6,2,4]\n",
    "lista.sort()\n",
    "print(lista)\n",
    "lista.reverse()\n",
    "print(lista)"
   ]
  },
  {
   "cell_type": "code",
   "execution_count": 6,
   "metadata": {},
   "outputs": [
    {
     "name": "stdout",
     "output_type": "stream",
     "text": [
      "[2, 4, 6, 8, 10]\n"
     ]
    }
   ],
   "source": [
    "my_list = [8, 10, 6, 2, 4]  # Lista para ordenar\n",
    "swapped = True  # É um pouco falso, precisamos dele para entrar no loop while.\n",
    " \n",
    "while swapped:\n",
    "    swapped = False  # nenhuma troca até agora\n",
    "    for i in range(len(my_list) - 1):\n",
    "        if my_list[i] > my_list[i + 1]:\n",
    "            swapped = True  # uma troca ocorreu!\n",
    "            my_list[i], my_list[i + 1] = my_list[i + 1], my_list[i]\n",
    " \n",
    "print(my_list)"
   ]
  },
  {
   "cell_type": "markdown",
   "metadata": {},
   "source": [
    "# 3.5.3 A ordenação por bolhas - versão interativa"
   ]
  },
  {
   "cell_type": "code",
   "execution_count": 8,
   "metadata": {},
   "outputs": [
    {
     "name": "stdout",
     "output_type": "stream",
     "text": [
      "\n",
      "Sorted:\n",
      "[1.0, 2.0, 5.0]\n"
     ]
    }
   ],
   "source": [
    "\n",
    "my_list = []\n",
    "swapped = True\n",
    "num = int(input(\"Quantos elementos você deseja embaralhar? \"))\n",
    "\n",
    "for i in range(num):\n",
    " val = float(input(\"Entre com a lista de elementos:\"))\n",
    " my_list.append(val)\n",
    "\n",
    "while swapped:\n",
    "    swapped = False\n",
    "    for i in range(len(my_list) - 1):\n",
    "        if my_list[i] > my_list[i + 1]:\n",
    "            swapped = True\n",
    "            my_list[i], my_list[i + 1] = my_list[i + 1], my_list[i]\n",
    "\n",
    "print(\"\\nSorted:\")\n",
    "print(my_list)"
   ]
  },
  {
   "cell_type": "markdown",
   "metadata": {},
   "source": []
  }
 ],
 "metadata": {
  "kernelspec": {
   "display_name": ".venv",
   "language": "python",
   "name": "python3"
  },
  "language_info": {
   "codemirror_mode": {
    "name": "ipython",
    "version": 3
   },
   "file_extension": ".py",
   "mimetype": "text/x-python",
   "name": "python",
   "nbconvert_exporter": "python",
   "pygments_lexer": "ipython3",
   "version": "3.13.2"
  }
 },
 "nbformat": 4,
 "nbformat_minor": 2
}
