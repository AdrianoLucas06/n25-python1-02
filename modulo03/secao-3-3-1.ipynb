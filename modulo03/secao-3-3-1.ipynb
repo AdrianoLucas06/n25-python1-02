{
 "cells": [
  {
   "cell_type": "markdown",
   "metadata": {},
   "source": [
    "# 3.3 Lógica e Operadores bit-a-bit\n",
    "### Operadores Lógicos and, or e not\n",
    "| A | A | A and B | A or B | not A |\n",
    "| :-: | :-: | :-: | :-: | :-: |\n",
    "| True | True | True | True | False |\n",
    "| True | False | False | True | False |\n",
    "| False | True | False | True | True |\n",
    "| False | False | False | False | False | True |"
   ]
  },
  {
   "cell_type": "code",
   "execution_count": 5,
   "metadata": {},
   "outputs": [
    {
     "name": "stdout",
     "output_type": "stream",
     "text": [
      "POde dirigir sem restrinções, desde com carta\n"
     ]
    }
   ],
   "source": [
    "idade = 19\n",
    "if idade >= 18 and idade <=60 :\n",
    "    print(\"POde dirigir sem restrinções, desde com carta\")\n",
    "    idade = 10\n",
    "    while idade<18 or idade >60:\n",
    "        idade = int(input(\"digite uma idade entre 18 e 60: \"))\n",
    "        if idade <18 or idade>60: print(\"idade invalida!\")\n",
    "        #só vai sair do laço com uma idade entre 18 e 60"
   ]
  },
  {
   "cell_type": "code",
   "execution_count": null,
   "metadata": {},
   "outputs": [
    {
     "name": "stdout",
     "output_type": "stream",
     "text": [
      "POde dirigir sem restrinções, desde com carta\n"
     ]
    }
   ],
   "source": [
    "idade = 19\n",
    "if idade >= 18 and idade <=60 :\n",
    "    print(\"POde dirigir sem restrinções, desde com carta\")\n",
    "    idade = 10\n",
    "    while idade<18 or idade >60:\n",
    "        idade = int(input(\"digite uma idade entre 18 e 60: \"))\n",
    "        if idade <18 or idade>60: print(\"idade invalida!\")\n",
    "        if not(idade>=18 and idade<=60): print (\"idade invalida\")\n",
    "        #só vai sair do laço com uma idade entre 18 e 60"
   ]
  },
  {
   "cell_type": "code",
   "execution_count": 7,
   "metadata": {},
   "outputs": [],
   "source": [
    "idade = int(input(\"Digite uma idade maior que 0\"))\n",
    "if not idade:\n",
    "    print(\"Idade invalida!\")"
   ]
  },
  {
   "cell_type": "markdown",
   "metadata": {},
   "source": [
    "### Operadores bit-a-bit\n",
    "#### Operador conjução (&)  ou and bit-a-bit\n",
    "\n",
    "2 & 3 = 2\n",
    "2 10 &\n",
    "3 11\n",
    "----\n",
    "2 10"
   ]
  },
  {
   "cell_type": "code",
   "execution_count": 9,
   "metadata": {},
   "outputs": [
    {
     "name": "stdout",
     "output_type": "stream",
     "text": [
      "5 0101\n",
      "7 0111 &\n",
      "-------\n",
      "5 0101\n",
      "0b101\n"
     ]
    }
   ],
   "source": [
    "a = 5\n",
    "b = 7\n",
    "print(a,f\"{a:04b}\")\n",
    "print(b,f\"{b:04b}\",\"&\")\n",
    "print(\"-\"*7)\n",
    "print(a&b,f\"{(a&b):04b}\")\n",
    "print(bin(a))"
   ]
  },
  {
   "cell_type": "markdown",
   "metadata": {},
   "source": [
    "#### Operador de disjunção (|) ou or bit-a-bit\n",
    "5 0101\n",
    "7 0111\n",
    "-------\n",
    "7 0111"
   ]
  },
  {
   "cell_type": "code",
   "execution_count": 11,
   "metadata": {},
   "outputs": [
    {
     "name": "stdout",
     "output_type": "stream",
     "text": [
      "5 0101\n",
      "7 0111 &\n",
      "-------\n",
      "7 0111\n"
     ]
    }
   ],
   "source": [
    "a = 5\n",
    "b = 7\n",
    "print(a,f\"{a:04b}\")\n",
    "print(b,f\"{b:04b}\",\"&\")\n",
    "print(\"-\"*7)\n",
    "print(a|b,f\"{(a|b):04b}\")"
   ]
  },
  {
   "cell_type": "markdown",
   "metadata": {},
   "source": [
    "#### Operador xor (^) ou exclusivo bit-a-bit\n",
    "5 0101\n",
    "7 0111\n",
    "-------\n",
    "7 0010\n",
    "\n"
   ]
  },
  {
   "cell_type": "code",
   "execution_count": 12,
   "metadata": {},
   "outputs": [
    {
     "name": "stdout",
     "output_type": "stream",
     "text": [
      "5 0101\n",
      "7 0111 &\n",
      "-------\n",
      "2 0010\n"
     ]
    }
   ],
   "source": [
    "a = 5\n",
    "b = 7\n",
    "print(a,f\"{a:04b}\")\n",
    "print(b,f\"{b:04b}\",\"&\")\n",
    "print(\"-\"*7)\n",
    "print(a^b,f\"{(a^b):04b}\")"
   ]
  },
  {
   "cell_type": "markdown",
   "metadata": {},
   "source": [
    "#### Complemento (~)\n",
    "\n",
    "~5 = -6\n"
   ]
  },
  {
   "cell_type": "code",
   "execution_count": 14,
   "metadata": {},
   "outputs": [
    {
     "name": "stdout",
     "output_type": "stream",
     "text": [
      "-6\n",
      "5\n"
     ]
    }
   ],
   "source": [
    "print(~5)\n",
    "print(~-6)"
   ]
  },
  {
   "cell_type": "markdown",
   "metadata": {},
   "source": [
    "#### Deslocamento de bit para a esquerda (<<)\n",
    "1 << 2 resulta em 100"
   ]
  },
  {
   "cell_type": "code",
   "execution_count": null,
   "metadata": {},
   "outputs": [
    {
     "name": "stdout",
     "output_type": "stream",
     "text": [
      "20 10100\n"
     ]
    }
   ],
   "source": [
    "print (5<<2, f\"{(5<<2):04b}\")"
   ]
  },
  {
   "cell_type": "markdown",
   "metadata": {},
   "source": [
    "#### Deslocamento de bit para a direita (>>)\n",
    "5>>2 resulta em 1"
   ]
  },
  {
   "cell_type": "code",
   "execution_count": 18,
   "metadata": {},
   "outputs": [
    {
     "name": "stdout",
     "output_type": "stream",
     "text": [
      "1 0001\n"
     ]
    }
   ],
   "source": [
    "print (5>>2, f\"{(5>>2):04b}\")"
   ]
  },
  {
   "cell_type": "markdown",
   "metadata": {},
   "source": [
    "### Atualizando a tabela de precedência de operadores\n",
    "| seq | Operador | Descrição |\n",
    "|:-:|:-:| - |\n",
    "| 1 | ** | Exponenciação |\n",
    "| 2 | -,+,~ | Operadores unarios e complemntos|\n",
    "| 3 | *,/,//, % |Multiplicação, divisão e resto |\n",
    "| 4 | +,- | Soma e Subtração |\n",
    "| 5 | <<, >> | Deslocamento de bits |\n",
    "| 6 | & | Conjunção |\n",
    "| 7 | \\|  | Disjunção |\n",
    "| 8 | <,<=,>,>=,!=,==| Operadores Relscionais |\n",
    "| 9 | not |Operador de negação |\n",
    "| 10 | and | Operador or |\n",
    "| 11 | or | Operador or |\n",
    "| 12 | +=,-=,*=...| Operador Atalho |"
   ]
  },
  {
   "cell_type": "markdown",
   "metadata": {},
   "source": []
  }
 ],
 "metadata": {
  "kernelspec": {
   "display_name": ".venv",
   "language": "python",
   "name": "python3"
  },
  "language_info": {
   "codemirror_mode": {
    "name": "ipython",
    "version": 3
   },
   "file_extension": ".py",
   "mimetype": "text/x-python",
   "name": "python",
   "nbconvert_exporter": "python",
   "pygments_lexer": "ipython3",
   "version": "3.13.2"
  }
 },
 "nbformat": 4,
 "nbformat_minor": 2
}
