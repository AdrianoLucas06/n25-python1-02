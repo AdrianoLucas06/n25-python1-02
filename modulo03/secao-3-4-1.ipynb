{
 "cells": [
  {
   "cell_type": "markdown",
   "metadata": {},
   "source": [
    "# 3.4 Listas"
   ]
  },
  {
   "cell_type": "code",
   "execution_count": 5,
   "metadata": {},
   "outputs": [
    {
     "name": "stdout",
     "output_type": "stream",
     "text": [
      "3\n",
      "[1, 2, 9, 4, 5, 6]\n",
      "6\n",
      "[1, 2, 9]\n"
     ]
    }
   ],
   "source": [
    "#Representando uma lista\n",
    "lista = [1, 2, 3, 4, 5, 6]\n",
    "print(lista[2])\n",
    "lista[2] = 9 #Alterando o item na posição 2\n",
    "print(lista)\n",
    "print(len(lista)) #Mostrando o tamanho da lista\n",
    "print(lista[0:3]) #Mostrando os itens da posição 0 até a 2 (não inclui o 3)"
   ]
  },
  {
   "cell_type": "markdown",
   "metadata": {},
   "source": [
    "# 3.4.4 Remover elementos de uma lista\n",
    "\n",
    "Qualquer um dos elementos da lista pode ser removido a qualquer momento - isso é feito com uma instrução chamada del (delete). Nota: é uma instrução, não uma função.\n",
    "\n",
    "Você precisa apontar para o elemento a ser removido - ele desaparecerá da lista e o comprimento da lista será reduzido em um.\n",
    "\n",
    "Veja o trecho abaixo. Você consegue adivinhar qual saída ela produzirá? Execute o programa no editor e marque."
   ]
  },
  {
   "cell_type": "code",
   "execution_count": 3,
   "metadata": {},
   "outputs": [
    {
     "name": "stdout",
     "output_type": "stream",
     "text": [
      "3\n",
      "[1, 2, 9, 4, 5, 6]\n",
      "6\n",
      "[1, 2, 9]\n",
      "[1, 2, 9, 4, 6]\n"
     ]
    }
   ],
   "source": [
    "lista = [1, 2, 3, 4, 5, 6]\n",
    "print(lista[2])\n",
    "lista[2] = 9 #Alterando o item na posição 2\n",
    "print(lista)\n",
    "print(len(lista)) #Mostrando o tamanho da lista\n",
    "print(lista[0:3]) #Mostrando os itens da posição 0 até a 2 (não inclui o 3)\n",
    "del lista[4]\n",
    "print(lista) #Removendo o item na posição 4"
   ]
  },
  {
   "cell_type": "code",
   "execution_count": 8,
   "metadata": {},
   "outputs": [
    {
     "name": "stdout",
     "output_type": "stream",
     "text": [
      "5\n",
      "4\n",
      "1\n",
      "5\n"
     ]
    }
   ],
   "source": [
    "# acessando elemetos com indices negativos\n",
    "lista = [1, 2, 3, 4, 5]\n",
    "print(lista[-1]) # Acessando o último elemento da lista\n",
    "print(lista[-2]) # Acessando o penúltimo elemento da lista\n",
    "print(lista[~(len(lista)-1)]) # Acessando o último elemento da lista com o operador bitwise NOT\n",
    "print(lista[len(lista)-1]) # Acessando o último elemento da lista com o operador de subtração"
   ]
  },
  {
   "cell_type": "markdown",
   "metadata": {},
   "source": [
    "#### Funcões x Médotos\n",
    "Exemplo de função : len(), min(), Max(), print()\n",
    "Métodos é um pouco diferente...\n",
    "objeto.metodo()\n",
    "Exemplos de metodos:\n",
    "lista = [1,2,3,4,5,]\n",
    "lista.append(6) <- # isso adiciona o numero 6 para o final"
   ]
  },
  {
   "cell_type": "code",
   "execution_count": null,
   "metadata": {},
   "outputs": [
    {
     "name": "stdout",
     "output_type": "stream",
     "text": [
      "[1, 2, 3, 4, 5, 6]\n",
      "['__add__', '__class__', '__class_getitem__', '__contains__', '__delattr__', '__delitem__', '__dir__', '__doc__', '__eq__', '__format__', '__ge__', '__getattribute__', '__getitem__', '__getstate__', '__gt__', '__hash__', '__iadd__', '__imul__', '__init__', '__init_subclass__', '__iter__', '__le__', '__len__', '__lt__', '__mul__', '__ne__', '__new__', '__reduce__', '__reduce_ex__', '__repr__', '__reversed__', '__rmul__', '__setattr__', '__setitem__', '__sizeof__', '__str__', '__subclasshook__', 'append', 'clear', 'copy', 'count', 'extend', 'index', 'insert', 'pop', 'remove', 'reverse', 'sort']\n",
      "['__add__', '__class__', '__contains__', '__delattr__', '__dir__', '__doc__', '__eq__', '__format__', '__ge__', '__getattribute__', '__getitem__', '__getnewargs__', '__getstate__', '__gt__', '__hash__', '__init__', '__init_subclass__', '__iter__', '__le__', '__len__', '__lt__', '__mod__', '__mul__', '__ne__', '__new__', '__reduce__', '__reduce_ex__', '__repr__', '__rmod__', '__rmul__', '__setattr__', '__sizeof__', '__str__', '__subclasshook__', 'capitalize', 'casefold', 'center', 'count', 'encode', 'endswith', 'expandtabs', 'find', 'format', 'format_map', 'index', 'isalnum', 'isalpha', 'isascii', 'isdecimal', 'isdigit', 'isidentifier', 'islower', 'isnumeric', 'isprintable', 'isspace', 'istitle', 'isupper', 'join', 'ljust', 'lower', 'lstrip', 'maketrans', 'partition', 'removeprefix', 'removesuffix', 'replace', 'rfind', 'rindex', 'rjust', 'rpartition', 'rsplit', 'rstrip', 'split', 'splitlines', 'startswith', 'strip', 'swapcase', 'title', 'translate', 'upper', 'zfill']\n",
      "[1, 2, 3, 9, 4, 5, 6]\n"
     ]
    }
   ],
   "source": [
    "lista = [1,2,3,4,5,]\n",
    "lista.append(6)\n",
    "print(lista) # Adicionando o número 6 no final da lista\n",
    "print(dir(lista)) # Mostrando os métodos disponíveis para a lista\n",
    "lista.insert(3, 9) # Adicionando o número 9 na posição 3 da lista # indice começa em zero\n",
    "print(lista) # Adicionando o número 9 na posição 2 da lista"
   ]
  },
  {
   "cell_type": "code",
   "execution_count": 22,
   "metadata": {},
   "outputs": [
    {
     "name": "stdout",
     "output_type": "stream",
     "text": [
      "Indice: 0 valor: 1\n",
      "Indice: 1 valor: 2\n",
      "Indice: 2 valor: 3\n",
      "Indice: 3 valor: 4\n",
      "Indice: 4 valor: 5\n",
      "Fim do programa\n"
     ]
    }
   ],
   "source": [
    "# Usando for em lista\n",
    "lista = [1, 2, 3, 4, 5]\n",
    "for i in range(len(lista)): # Usando o for para iterar sobre a lista\n",
    "    print(\"Indice:\", i, \"valor:\",lista[i])\n",
    "print(\"Fim do programa\") # Mostrando a mensagem \"Fim do programa\""
   ]
  },
  {
   "cell_type": "code",
   "execution_count": null,
   "metadata": {},
   "outputs": [
    {
     "name": "stdout",
     "output_type": "stream",
     "text": [
      "valor: 1\n",
      "valor: 2\n",
      "valor: 3\n",
      "valor: 4\n",
      "valor: 5\n",
      "Fim do programa\n"
     ]
    }
   ],
   "source": [
    "# Usando for em lista pelo valor\n",
    "lista = [1, 2, 3, 4, 5] \n",
    "for el in lista:\n",
    "        print(\"valor:\",el)\n",
    "print(\"Fim do programa\")"
   ]
  },
  {
   "cell_type": "code",
   "execution_count": 28,
   "metadata": {},
   "outputs": [
    {
     "name": "stdout",
     "output_type": "stream",
     "text": [
      "[7, 2, 3, 4, 5, 6, 1]\n",
      "[7, 6, 3, 4, 5, 2, 1]\n",
      "[7, 6, 5, 4, 3, 2, 1]\n"
     ]
    }
   ],
   "source": [
    "# Permuta de elementos em uma lista\n",
    "lista = [1, 2, 3, 4, 5, 6, 7]\n",
    "\n",
    "lista[0], lista[-1] = lista[-1], lista[0] # Troca o valor do primeiro elemento com o segundo\n",
    "print(lista) # Mostrando a lista após a troca de valores\n",
    "lista[1], lista[-2] = lista[-2], lista[1] # Troca o valor do segundo elemento com o penúltimo\n",
    "print(lista) # Mostrando a lista após a troca de valores\n",
    "lista[2], lista[-3] = lista[-3], lista[2] # Troca o valor do terceiro elemento com o antepenúltimo\n",
    "print(lista) # Mostrando a lista após a troca de valores"
   ]
  },
  {
   "cell_type": "code",
   "execution_count": 33,
   "metadata": {},
   "outputs": [
    {
     "name": "stdout",
     "output_type": "stream",
     "text": [
      "[8, 7, 6, 5, 4, 3, 2, 1]\n"
     ]
    }
   ],
   "source": [
    "# Permuta de elementos em uma lista\n",
    "lista = [1, 2, 3, 4, 5, 6, 7, 8]\n",
    "for i in range(len(lista)//2):\n",
    "    lista[i], lista[-(i+1)] = lista[-(i+1)], lista[i] # Troca o valor do primeiro elemento com o segundo\n",
    "print(lista) # Mostrando a lista após a troca de valores"
   ]
  },
  {
   "cell_type": "code",
   "execution_count": 50,
   "metadata": {},
   "outputs": [
    {
     "name": "stdout",
     "output_type": "stream",
     "text": [
      "3\n",
      "[1, [2, 3]]\n",
      "[2, 3]\n",
      "2\n",
      "3\n"
     ]
    }
   ],
   "source": [
    "lista = [1, 2.5, \"olá\", [1,2,3,],[1,[2,3]], True]\n",
    "print(lista[3][2]) # Acessando o terceiro elemento da lista dentro da lista\n",
    "print(lista[4])\n",
    "print(lista[4][1]) \n",
    "print(lista[4][1][0]) # Acessando o primeiro elemento da lista dentro da lista dentro da lista\n",
    "print(lista[4][1][1]) # Acessando o segundo elemento da lista dentro da lista dentro da lista"
   ]
  }
 ],
 "metadata": {
  "kernelspec": {
   "display_name": ".venv",
   "language": "python",
   "name": "python3"
  },
  "language_info": {
   "codemirror_mode": {
    "name": "ipython",
    "version": 3
   },
   "file_extension": ".py",
   "mimetype": "text/x-python",
   "name": "python",
   "nbconvert_exporter": "python",
   "pygments_lexer": "ipython3",
   "version": "3.13.2"
  }
 },
 "nbformat": 4,
 "nbformat_minor": 2
}
