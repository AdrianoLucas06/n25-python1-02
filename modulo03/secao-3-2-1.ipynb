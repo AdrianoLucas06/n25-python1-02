{
 "cells": [
  {
   "cell_type": "markdown",
   "metadata": {},
   "source": [
    "# Loops\n",
    "### Laço while"
   ]
  },
  {
   "cell_type": "code",
   "execution_count": null,
   "metadata": {},
   "outputs": [],
   "source": [
    "# Exemplo de templo Infinito....\n",
    "while true: # condição se verdade permanece o laço\n",
    "    print(\"teste..\") #laço infito\n",
    "    break"
   ]
  },
  {
   "cell_type": "code",
   "execution_count": null,
   "metadata": {},
   "outputs": [],
   "source": [
    "# Exemplo para testar maior valor\n",
    "# Usuario vai digitar os valores ate o valor ser -1\n",
    "maior = -999_999_999_999\n",
    "valor = int(input(\"Digite um valor (-1 =fim)\"))\n",
    "while valor != -1:\n",
    "    if valor>maior:\n",
    "        maior = valor\n",
    "    valor = int(input(\"Digite um valor (-1 =fim)\"))\n",
    "if maior > -999_999_999_999\n",
    "    print(\"O maior valor digitado foi\", maior)\n",
    "else:\n",
    "    print(\"não houve digitação de valores!\")\n"
   ]
  },
  {
   "cell_type": "code",
   "execution_count": null,
   "metadata": {},
   "outputs": [
    {
     "name": "stdout",
     "output_type": "stream",
     "text": [
      "pares:  0 impares: 1\n",
      "pares:  1 impares: 1\n",
      "pares:  1 impares: 2\n"
     ]
    }
   ],
   "source": [
    "# Solicitar ao usuario a digilitacão de valor se -1 encerrar\n",
    "# Contar quantos pares  equantos impares foram digitados\n",
    "par, impares = 0, 0 \n",
    "num = int(input(\"digite um numero(-1 = fim): \"))\n",
    "while num != -1:\n",
    "    if num % 2 == 0: # par\n",
    "        par += 1 # par = par + 1\n",
    "    else:\n",
    "        impares += 1 # impar =2 impar + 1\n",
    "    num = int(input(\"Digite um numero (-1 = fim): \")) \n",
    "print (\"pares: \", par, \"impares:\", impares)   \n",
    "   "
   ]
  },
  {
   "cell_type": "code",
   "execution_count": null,
   "metadata": {},
   "outputs": [],
   "source": [
    "contador = 0\n",
    "while contador < 10:\n",
    "    print (contador)\n",
    "    contador += 1\n",
    "print(\"fim de programa\")\n"
   ]
  },
  {
   "cell_type": "markdown",
   "metadata": {},
   "source": [
    "### Laço for"
   ]
  },
  {
   "cell_type": "code",
   "execution_count": null,
   "metadata": {},
   "outputs": [
    {
     "name": "stdout",
     "output_type": "stream",
     "text": [
      "0\n",
      "1\n",
      "2\n",
      "3\n",
      "4\n",
      "5\n",
      "6\n",
      "7\n",
      "8\n",
      "9\n",
      "fim do programa\n"
     ]
    }
   ],
   "source": [
    "for contador in range(10): #range inicio no 0\n",
    "    print(contador)\n",
    "print(\"fim do programa\")"
   ]
  },
  {
   "cell_type": "code",
   "execution_count": null,
   "metadata": {},
   "outputs": [],
   "source": [
    "### rsange com 2 paramentros( incio e fim)"
   ]
  },
  {
   "cell_type": "code",
   "execution_count": 11,
   "metadata": {},
   "outputs": [
    {
     "name": "stdout",
     "output_type": "stream",
     "text": [
      "1\n",
      "2\n",
      "3\n",
      "4\n",
      "fim do programa\n"
     ]
    }
   ],
   "source": [
    "for contador in range (1,5):\n",
    "    print(contador)\n",
    "print (\"fim do programa\")"
   ]
  },
  {
   "cell_type": "code",
   "execution_count": null,
   "metadata": {},
   "outputs": [],
   "source": [
    "### range com 3 parâmetros (inicio, fim, passo)"
   ]
  },
  {
   "cell_type": "code",
   "execution_count": 17,
   "metadata": {},
   "outputs": [
    {
     "name": "stdout",
     "output_type": "stream",
     "text": [
      "3\n",
      "6\n",
      "9\n",
      "12\n",
      "15\n",
      "18\n",
      "21\n",
      "24\n",
      "27\n",
      "30\n",
      "Fim do programa\n"
     ]
    }
   ],
   "source": [
    "for contador in range(3, 31, 3):\n",
    "     print (contador)\n",
    "print(\"Fim do programa\")     "
   ]
  },
  {
   "cell_type": "code",
   "execution_count": 23,
   "metadata": {},
   "outputs": [
    {
     "name": "stdout",
     "output_type": "stream",
     "text": [
      "Fim do pragrama 9\n"
     ]
    }
   ],
   "source": [
    "# For interessante\n",
    "contador = 9\n",
    "for contador in range(1,1):\n",
    "    print(contador)\n",
    "print(\"Fim do pragrama\", contador)"
   ]
  },
  {
   "cell_type": "code",
   "execution_count": null,
   "metadata": {},
   "outputs": [
    {
     "name": "stdout",
     "output_type": "stream",
     "text": [
      "10\n",
      "9\n",
      "8\n",
      "7\n",
      "6\n",
      "5\n",
      "4\n",
      "3\n",
      "2\n",
      "1\n",
      "fim do programa\n"
     ]
    }
   ],
   "source": [
    "# desafio \n",
    "for contador in range (10,0,-1): #imprimir do 10 ao 1\n",
    "    print(contador)\n",
    "print(\"fim do programa\")"
   ]
  },
  {
   "cell_type": "code",
   "execution_count": 29,
   "metadata": {},
   "outputs": [
    {
     "name": "stdout",
     "output_type": "stream",
     "text": [
      "1 mississipi\n",
      "2 mississipi\n",
      "3 mississipi\n",
      "4 mississipi\n",
      "5 mississipi\n",
      "pronto ou não, aqui vou eu!!\n"
     ]
    }
   ],
   "source": [
    "# lab 3.2.7\n",
    "import time\n",
    "# Escreva um loop for que conte até cinco\n",
    "   # Corpo do loop - exiba o número de iteração do loop e a palavra \"Mississippi\".\n",
    "   # Corpo do loop - use: time.sleep(1)\n",
    "\n",
    "# Escreva uma função print com a mensagem final.\n",
    "for i in range (1,6):\n",
    "    print(i,\"mississipi\")\n",
    "    time.sleep(1)\n",
    "print(\"pronto ou não, aqui vou eu!!\")"
   ]
  },
  {
   "cell_type": "markdown",
   "metadata": {},
   "source": [
    "### Instrução break e continue"
   ]
  },
  {
   "cell_type": "code",
   "execution_count": 31,
   "metadata": {},
   "outputs": [
    {
     "name": "stdout",
     "output_type": "stream",
     "text": [
      "0\n",
      "1\n",
      "2\n",
      "fim de programa\n"
     ]
    }
   ],
   "source": [
    "contador = 0\n",
    "while contador < 10:\n",
    "    print(contador)\n",
    "    contador += 1\n",
    "    if contador == 3:\n",
    "        break\n",
    "print(\"fim de programa\")\n",
    "   "
   ]
  },
  {
   "cell_type": "code",
   "execution_count": 34,
   "metadata": {},
   "outputs": [
    {
     "name": "stdout",
     "output_type": "stream",
     "text": [
      "1\n",
      "2\n",
      "4\n",
      "5\n",
      "6\n",
      "7\n",
      "8\n",
      "9\n",
      "10\n",
      "fim de programa\n"
     ]
    }
   ],
   "source": [
    "contador = 0\n",
    "while contador < 10:\n",
    "    contador += 1\n",
    "    if contador == 3:\n",
    "        continue\n",
    "    print(contador)\n",
    "print(\"fim de programa\")"
   ]
  },
  {
   "cell_type": "code",
   "execution_count": null,
   "metadata": {},
   "outputs": [
    {
     "name": "stdout",
     "output_type": "stream",
     "text": [
      "o-t-o-r-r-i-n-o-l-a-r-i-n-g-o-l-o-g-i-s-t-a-\n",
      "Fim do Programa\n",
      "atsigologniralonirroto\n"
     ]
    }
   ],
   "source": [
    "# Exemplo interessante do for\n",
    "palavra = \"otorrinolaringologista\"\n",
    "for letra in palavra:\n",
    "    print(letra,end=\"-\")\n",
    "print(\"\\nFim do Programa\")\n",
    "# invertendo a palavra\n",
    "pal_inv = \"\"\n",
    "for letra in palavra :\n",
    "    pal_inv = letra + pal_inv\n",
    "print(pal_inv)"
   ]
  },
  {
   "cell_type": "markdown",
   "metadata": {},
   "source": [
    "### Ramo else para while - 3.2.12"
   ]
  },
  {
   "cell_type": "code",
   "execution_count": null,
   "metadata": {},
   "outputs": [],
   "source": [
    "i = 1\n",
    "while i < 5:\n",
    "    if i == 3:\n",
    "        break\n",
    "    print(i)\n",
    "else:\n",
    "    print(\"else\", i)    "
   ]
  },
  {
   "cell_type": "code",
   "execution_count": 2,
   "metadata": {},
   "outputs": [
    {
     "name": "stdout",
     "output_type": "stream",
     "text": [
      "1\n",
      "2\n",
      "3\n",
      "4\n",
      "else: 4\n"
     ]
    }
   ],
   "source": [
    "# del i\n",
    "for i in range (1,5):\n",
    "    print(i)\n",
    "else:\n",
    "    print(\"else:\",i)"
   ]
  },
  {
   "cell_type": "code",
   "execution_count": null,
   "metadata": {},
   "outputs": [
    {
     "name": "stdout",
     "output_type": "stream",
     "text": [
      "1\n",
      "2\n"
     ]
    }
   ],
   "source": [
    "# del i\n",
    "for i in range (1,5):\n",
    "    if i ==3: break # pode ser 1 linha desde que seja uma instrução\n",
    "    print(i)\n",
    "else:\n",
    "    print(\"else:\",i) #só não passa se ocorrer break no laço"
   ]
  },
  {
   "attachments": {
    "image.png": {
     "image/png": "[encoded data removed]"
    }
   },
   "cell_type": "markdown",
   "metadata": {},
   "source": [
    "# Laboratorio - 3.2.14 - Essenciais do loop while\n",
    "![image.png](attachment:image.png)\n",
    "\n",
    "Sua tarefa é escrever um programa que lê o número de blocos que os construtores têm e gera a altura da pirâmide que pode ser construída usando esses blocos.\n",
    "\n",
    "Nota: a altura é medida pelo número de camadas totalmente concluídas; se os construtores não tiverem um número suficiente de blocos e não puderem concluir a próxima camada, eles terminarão seu trabalho imediatamente.\n",
    "\n",
    "Teste seu código usando os dados que fornecemos.\n",
    "\n",
    "\n",
    "\n"
   ]
  },
  {
   "cell_type": "code",
   "execution_count": 5,
   "metadata": {},
   "outputs": [
    {
     "name": "stdout",
     "output_type": "stream",
     "text": [
      "A altura da pirâmide: 3\n"
     ]
    }
   ],
   "source": [
    "blocos = int(input(\"Insira o número de blocos:\"))  \n",
    " # Escreva seu código aqui.\n",
    "altura = 0\n",
    "total_blocos = 0\n",
    "while total_blocos + altura +1 <= blocos:\n",
    "    altura += 1\n",
    "    total_blocos += altura\n",
    "\n",
    "\n",
    "\n",
    "#\n",
    "\n",
    "print(\"A altura da pirâmide:\", altura)\n",
    "\n"
   ]
  },
  {
   "cell_type": "markdown",
   "metadata": {},
   "source": [
    "#### Fazer um programa que solicite \n",
    "um numero e retorne a raiz aproximada do numero\n",
    "Voce deve usar laço for, if ,break"
   ]
  },
  {
   "cell_type": "code",
   "execution_count": 11,
   "metadata": {},
   "outputs": [
    {
     "name": "stdout",
     "output_type": "stream",
     "text": [
      "raiz aproximada é:  2\n"
     ]
    }
   ],
   "source": [
    "num = int(input(\"Digite o valor\"))\n",
    "raiz = 0\n",
    "for i in range (num):\n",
    "    #seu codigo aqui\n",
    "    raiz = i\n",
    "    if (raiz + 1) * (raiz + 1) > num:\n",
    "       break;\n",
    "print(\"raiz aproximada é: \", raiz)"
   ]
  },
  {
   "cell_type": "code",
   "execution_count": 23,
   "metadata": {},
   "outputs": [
    {
     "name": "stdout",
     "output_type": "stream",
     "text": [
      "CPF Valido 44816169890 44816169890\n",
      "CPF Valido 44816169890\n"
     ]
    }
   ],
   "source": [
    "# Teste CPF\n",
    "cpf = input(\"Digite o CPF(somente número, 11 digitos): \")\n",
    "cpf_sem_dg = \"\"\n",
    "soma=0\n",
    "for i in range (9):\n",
    "    soma += int(cpf[i]) * (10 - i)\n",
    "    cpf_sem_dg += cpf [i]\n",
    "#calculo primeiro digito\n",
    "dg1 = soma * 10 % 11\n",
    "if dg1 > 9: dg1 = 0\n",
    "soma = 0\n",
    "for i in range (10):\n",
    "    soma += int(cpf[i]) * (11 - i)\n",
    "#calculo segundo digito\n",
    "dg2 = soma * 10 % 11\n",
    "if dg2 > 9: dg2 = 0\n",
    "# Montando cpf Calculado\n",
    "cpf_sem_dg += str(dg1) + str (dg2)\n",
    "if cpf != cpf_sem_dg:\n",
    "    print(\"Cpf invalido!\", cpf, cpf_sem_dg)\n",
    "else:\n",
    "    print(\"CPF Valido\", cpf, cpf_sem_dg)\n",
    "    print(\"CPF Valido\", cpf)\n",
    "  "
   ]
  }
 ],
 "metadata": {
  "kernelspec": {
   "display_name": ".venv",
   "language": "python",
   "name": "python3"
  },
  "language_info": {
   "codemirror_mode": {
    "name": "ipython",
    "version": 3
   },
   "file_extension": ".py",
   "mimetype": "text/x-python",
   "name": "python",
   "nbconvert_exporter": "python",
   "pygments_lexer": "ipython3",
   "version": "3.13.2"
  }
 },
 "nbformat": 4,
 "nbformat_minor": 2
}
