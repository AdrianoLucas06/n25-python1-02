{
 "cells": [
  {
   "cell_type": "markdown",
   "metadata": {},
   "source": [
    "# Variaveis"
   ]
  },
  {
   "cell_type": "code",
   "execution_count": 7,
   "metadata": {},
   "outputs": [
    {
     "name": "stdout",
     "output_type": "stream",
     "text": [
      "45\n",
      "46\n"
     ]
    }
   ],
   "source": [
    "idade = 45\n",
    "print(idade)\n",
    "idade = idade + 1\n",
    "print(idade)"
   ]
  },
  {
   "cell_type": "markdown",
   "metadata": {},
   "source": [
    "### Regras para o nome de uma variavel\n",
    " - Deve-se iniciar com uma letra ou _\n",
    " - Não pode conter caracter especial\n",
    " - Pode-se usar letras numeros ou _\n",
    " - O python faz diferença entre maiscula e minúsculas\n",
    " - Não pode ser uma palavra reservada do python (se for usar colocar _ antes ex. _if ou com maisculo IF)\n",
    " - del apaga a variavel"
   ]
  },
  {
   "cell_type": "markdown",
   "metadata": {},
   "source": [
    "### Laboratório 2-4-7"
   ]
  },
  {
   "cell_type": "code",
   "execution_count": 10,
   "metadata": {},
   "outputs": [
    {
     "name": "stdout",
     "output_type": "stream",
     "text": [
      "3,5,6\n",
      "total de maçãs: 14\n"
     ]
    }
   ],
   "source": [
    "john=3\n",
    "mary=5\n",
    "adam=6\n",
    "print(john,mary,adam, sep=\",\")\n",
    "total_apples = john + mary + adam\n",
    "print(\"total de maçãs:\", total_apples)"
   ]
  },
  {
   "cell_type": "markdown",
   "metadata": {},
   "source": [
    "### Operador de atalhos\n",
    "\n",
    "operador = operador operacao valor => Operador operacao= valor resumindo\n",
    "idade= idade + 5 =>idade += 5 "
   ]
  },
  {
   "cell_type": "code",
   "execution_count": 13,
   "metadata": {},
   "outputs": [
    {
     "name": "stdout",
     "output_type": "stream",
     "text": [
      "7\n",
      "7\n",
      "49\n"
     ]
    }
   ],
   "source": [
    "variavel = 2\n",
    "variavel = variavel + 5\n",
    "# variavel + =5\n",
    "print(variavel)\n",
    "#variavel = variavel * 5 + 2\n",
    "print(variavel)\n",
    "variavel *= 5 + 2\n",
    "print(variavel)"
   ]
  },
  {
   "cell_type": "markdown",
   "metadata": {},
   "source": [
    "### Laboratorio 2.4.9\n"
   ]
  },
  {
   "cell_type": "code",
   "execution_count": 15,
   "metadata": {},
   "outputs": [
    {
     "name": "stdout",
     "output_type": "stream",
     "text": [
      "7.38 milhas é 11.88 quilômetros\n",
      "12.25 quilômetros é 7.61 milhas\n"
     ]
    }
   ],
   "source": [
    "kilometers = 12.25\n",
    "miles = 7.38\n",
    "one_m_2_k= 1.61\n",
    "miles_to_kilometers = miles* one_m_2_k\n",
    "kilometers_to_miles = kilometers/ one_m_2_k\n",
    "\n",
    "print(miles, \"milhas é\", round(miles_to_kilometers, 2), \"quilômetros\")\n",
    "print(kilometers, \"quilômetros é\", round(kilometers_to_miles, 2), \"milhas\")"
   ]
  },
  {
   "cell_type": "markdown",
   "metadata": {},
   "source": [
    "### Laboratorio 2.4.10\n",
    "3x3 - 2x2 + 3x - 1\n",
    " - x = 0, x = 1, x = -1\n",
    "  - exemplo de saida\n",
    "  - y = -1.0, y = 3.0, y= -9,0"
   ]
  },
  {
   "cell_type": "code",
   "execution_count": 17,
   "metadata": {},
   "outputs": [
    {
     "ename": "SyntaxError",
     "evalue": "invalid syntax (2586445697.py, line 1)",
     "output_type": "error",
     "traceback": [
      "  \u001b[36mCell\u001b[39m\u001b[36m \u001b[39m\u001b[32mIn[17]\u001b[39m\u001b[32m, line 1\u001b[39m\n\u001b[31m    \u001b[39m\u001b[31mx -# Codifique seus dados de teste aqui.\u001b[39m\n       ^\n\u001b[31mSyntaxError\u001b[39m\u001b[31m:\u001b[39m invalid syntax\n"
     ]
    }
   ],
   "source": [
    "x -# Codifique seus dados de teste aqui.\n",
    "x = float(x)\n",
    "# Escreva seu código aqui.\n",
    "y = 3*x**3 - 2*x**2 + 3*x - 1\n",
    "print(\"y=\",y)"
   ]
  }
 ],
 "metadata": {
  "kernelspec": {
   "display_name": ".venv",
   "language": "python",
   "name": "python3"
  },
  "language_info": {
   "codemirror_mode": {
    "name": "ipython",
    "version": 3
   },
   "file_extension": ".py",
   "mimetype": "text/x-python",
   "name": "python",
   "nbconvert_exporter": "python",
   "pygments_lexer": "ipython3",
   "version": "3.13.2"
  }
 },
 "nbformat": 4,
 "nbformat_minor": 2
}
