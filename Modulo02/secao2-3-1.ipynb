{
 "cells": [
  {
   "cell_type": "markdown",
   "metadata": {},
   "source": [
    "### Operadores em Python\n",
    "### Pyrhon como Calculadora"
   ]
  },
  {
   "cell_type": "code",
   "execution_count": 2,
   "metadata": {},
   "outputs": [
    {
     "name": "stdout",
     "output_type": "stream",
     "text": [
      "4\n"
     ]
    }
   ],
   "source": [
    "#Sempre selecionar o kernel\n",
    "print(2+2)\n"
   ]
  },
  {
   "cell_type": "markdown",
   "metadata": {},
   "source": [
    "### Operadores Basicos\n",
    "#### Operador exponencial"
   ]
  },
  {
   "cell_type": "code",
   "execution_count": 1,
   "metadata": {},
   "outputs": [
    {
     "name": "stdout",
     "output_type": "stream",
     "text": [
      "4\n",
      "4.0\n",
      "4.0\n"
     ]
    }
   ],
   "source": [
    "print( 2 ** 2)\n",
    "print( 2.0 ** 2)\n",
    "print( 2.0 ** 2.0)"
   ]
  },
  {
   "cell_type": "markdown",
   "metadata": {},
   "source": [
    "#### Operador fr Multiplicação (*)"
   ]
  },
  {
   "cell_type": "code",
   "execution_count": null,
   "metadata": {},
   "outputs": [],
   "source": [
    "print(2*2)\n",
    "print(2.0*2)\n",
    "print(2*2.0)\n",
    "print (2.0*2.0)"
   ]
  },
  {
   "cell_type": "markdown",
   "metadata": {},
   "source": [
    "#### Operador de divisão"
   ]
  },
  {
   "cell_type": "code",
   "execution_count": 6,
   "metadata": {},
   "outputs": [
    {
     "name": "stdout",
     "output_type": "stream",
     "text": [
      "1.0\n",
      "1.0\n",
      "1.0\n",
      "1.0\n"
     ]
    }
   ],
   "source": [
    "print(2/2)\n",
    "print (2.0/2)\n",
    "print(2/2.0)\n",
    "print(2.0/2.0)"
   ]
  },
  {
   "cell_type": "markdown",
   "metadata": {},
   "source": [
    "#### Divisão com arredondamento (inteira)\n",
    "Faz arredondamento para baixo!!!"
   ]
  },
  {
   "cell_type": "code",
   "execution_count": 11,
   "metadata": {},
   "outputs": [
    {
     "name": "stdout",
     "output_type": "stream",
     "text": [
      "0\n",
      "1\n",
      "1.0\n",
      "1.0\n",
      "1.0\n",
      "-2\n"
     ]
    }
   ],
   "source": [
    "print(2//3)\n",
    "print(3//2)\n",
    "print( 2.0//2)\n",
    "print(2//2.0)\n",
    "print(2.0//2.0)\n",
    "print(-3//2)#ele arredonda para baixo"
   ]
  },
  {
   "cell_type": "markdown",
   "metadata": {},
   "source": [
    "#### Operador de resto - modulo %"
   ]
  },
  {
   "cell_type": "code",
   "execution_count": 13,
   "metadata": {},
   "outputs": [
    {
     "name": "stdout",
     "output_type": "stream",
     "text": [
      "1\n",
      "1.0\n",
      "1.0\n",
      "1.0\n",
      "3.0\n"
     ]
    }
   ],
   "source": [
    "print( 3 % 2)\n",
    "print(3 % 2.0)\n",
    "print(3.0%2)\n",
    "print(3.0%2)\n",
    "print(12%4.5)#resto 4,5+4,5=9 resto para 12 é 3\n",
    "#resto"
   ]
  },
  {
   "cell_type": "markdown",
   "metadata": {},
   "source": [
    "#### Cuidados com Restos e Divisões\n",
    "qualquer um deles nao pode ter como divisor zero(0)\n",
    "o resultador é erro\n",
    "#### Operador de soma e subtração\n"
   ]
  },
  {
   "cell_type": "code",
   "execution_count": null,
   "metadata": {},
   "outputs": [
    {
     "name": "stdout",
     "output_type": "stream",
     "text": [
      "4\n",
      "0\n",
      "4.0\n",
      "4.0\n",
      "0.0\n"
     ]
    }
   ],
   "source": [
    "print(2+2)\n",
    "print(2-2)\n",
    "print(2.0+2)\n",
    "print(2.0+2)\n",
    "print(-2.0+2.0)# usando operador unário(porque inverteu valor do item)"
   ]
  },
  {
   "cell_type": "markdown",
   "metadata": {},
   "source": [
    "#### Operadores e prioridades"
   ]
  },
  {
   "cell_type": "code",
   "execution_count": 16,
   "metadata": {},
   "outputs": [
    {
     "name": "stdout",
     "output_type": "stream",
     "text": [
      "2.0\n",
      "256\n"
     ]
    }
   ],
   "source": [
    "print(2+3*4**2/2//2%3)\n",
    "print(2**2**3)"
   ]
  },
  {
   "cell_type": "markdown",
   "metadata": {},
   "source": [
    "#### Lista de Prioridades de Operadores\n",
    "| Prioridade | Operador | Descrição |\n",
    "| :-: | :-: | :-: |\n",
    "| 1 | ** | Exponenciação |\n",
    "| 2 | -, + | Operador Unario |\n",
    "| 3 | *, /, //,% | Mulltiplicação, Divisão e Resto |\n",
    "| 4 | -, + | Soma e Subtração |"
   ]
  },
  {
   "cell_type": "code",
   "execution_count": 18,
   "metadata": {},
   "outputs": [
    {
     "name": "stdout",
     "output_type": "stream",
     "text": [
      "-9\n",
      "9\n"
     ]
    }
   ],
   "source": [
    "print (-3**2)\n",
    "print ((-3)**2)"
   ]
  },
  {
   "cell_type": "markdown",
   "metadata": {},
   "source": []
  }
 ],
 "metadata": {
  "kernelspec": {
   "display_name": ".venv",
   "language": "python",
   "name": "python3"
  },
  "language_info": {
   "codemirror_mode": {
    "name": "ipython",
    "version": 3
   },
   "file_extension": ".py",
   "mimetype": "text/x-python",
   "name": "python",
   "nbconvert_exporter": "python",
   "pygments_lexer": "ipython3",
   "version": "3.13.2"
  }
 },
 "nbformat": 4,
 "nbformat_minor": 2
}
