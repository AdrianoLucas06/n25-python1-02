{
 "cells": [
  {
   "cell_type": "markdown",
   "metadata": {},
   "source": [
    "# Laboratorio 2-1-5"
   ]
  },
  {
   "cell_type": "code",
   "execution_count": 19,
   "metadata": {},
   "outputs": [
    {
     "name": "stdout",
     "output_type": "stream",
     "text": [
      "olá python!\n",
      "Adriano\n"
     ]
    }
   ],
   "source": [
    "print(\"olá python!\")\n",
    "print('Adriano')\n"
   ]
  },
  {
   "cell_type": "markdown",
   "metadata": {},
   "source": [
    "### continuando sobre o print"
   ]
  },
  {
   "cell_type": "code",
   "execution_count": 20,
   "metadata": {},
   "outputs": [
    {
     "name": "stdout",
     "output_type": "stream",
     "text": [
      "A pequenina aranha escalou a tromba d'água.\n",
      "\n",
      "Caiu a chuva e lavou a aranha.\n"
     ]
    }
   ],
   "source": [
    "print(\"A pequenina aranha escalou a tromba d'água.\")\n",
    "print()\n",
    "print(\"Caiu a chuva e lavou a aranha.\")"
   ]
  },
  {
   "cell_type": "code",
   "execution_count": 27,
   "metadata": {},
   "outputs": [
    {
     "name": "stdout",
     "output_type": "stream",
     "text": [
      "\"\n",
      "\\\n",
      "1234\t5678\t90\n"
     ]
    }
   ],
   "source": [
    "print(\"\\\"\")\n",
    "print(\"\\\\\")\n",
    "print(\"1234\\t5678\\t90\")"
   ]
  },
  {
   "cell_type": "markdown",
   "metadata": {},
   "source": [
    "### Print com varios argumentos"
   ]
  },
  {
   "cell_type": "code",
   "execution_count": 28,
   "metadata": {},
   "outputs": [
    {
     "name": "stdout",
     "output_type": "stream",
     "text": [
      "a aranha pequenina subi a tromba d'água\n"
     ]
    }
   ],
   "source": [
    "print(\"a aranha pequenina\",\"subi\",\"a tromba d'água\")"
   ]
  },
  {
   "cell_type": "markdown",
   "metadata": {},
   "source": [
    "### Argumentos palavra - chave ou nomeada"
   ]
  },
  {
   "cell_type": "code",
   "execution_count": 32,
   "metadata": {},
   "outputs": [
    {
     "name": "stdout",
     "output_type": "stream",
     "text": [
      "meu nome é python. Monty Python\n",
      "Meu-nome-é-Monty-Python.\n",
      "Meu_nome_é*Monty*Python.*\n"
     ]
    }
   ],
   "source": [
    "print(\"meu nome é\",\"python.\",end=\" \")\n",
    "print(\"Monty Python\")\n",
    "print(\"Meu\", \"nome\", \"é\", \"Monty\", \"Python.\", sep=\"-\")\n",
    "print(\"Meu\", \"nome\", \"é\", sep=\"_\", end=\"*\")\n",
    "print(\"Monty\", \"Python.\", sep=\"*\", end=\"*\\n\")"
   ]
  },
  {
   "cell_type": "markdown",
   "metadata": {},
   "source": [
    "## Laboratorio 2-1-12\n",
    "#### Saida esperada\n",
    "```Python\n",
    "Programação*Essenciais***em...Python\n",
    "```"
   ]
  },
  {
   "cell_type": "code",
   "execution_count": 38,
   "metadata": {},
   "outputs": [
    {
     "name": "stdout",
     "output_type": "stream",
     "text": [
      "programação***Essenciais***em...Python\n"
     ]
    }
   ],
   "source": [
    "print(\"programação\",\"Essenciais\",\"em\",sep=\"***\",end=\"...\")\n",
    "print(\"Python\")"
   ]
  },
  {
   "cell_type": "code",
   "execution_count": null,
   "metadata": {},
   "outputs": [],
   "source": [
    "# Isso eu não posso fazer\n",
    "print (sep=\"-\",\"argumento1\",\"argumento2\")"
   ]
  },
  {
   "cell_type": "markdown",
   "metadata": {},
   "source": [
    "### Laboratorio 2-1-13"
   ]
  },
  {
   "cell_type": "code",
   "execution_count": 44,
   "metadata": {},
   "outputs": [
    {
     "name": "stdout",
     "output_type": "stream",
     "text": [
      "    *        *        *        *    \n",
      "   * *      * *      * *      * *   \n",
      "  *   *    *   *    *   *    *   *  \n",
      " *     *  *     *  *     *  *     * \n",
      "***   ******   ******   ******   ***\n",
      "  *   *    *   *    *   *    *   *  \n",
      "  *   *    *   *    *   *    *   *  \n",
      "  *****    *****    *****    *****  \n"
     ]
    }
   ],
   "source": [
    "print(\"    *    \"*4)\n",
    "print(\"   * *   \"*4) \n",
    "print(\"  *   *  \"*4)\n",
    "print(\" *     * \"*4)\n",
    "print(\"***   ***\"*4)\n",
    "print(\"  *   *  \"*4)\n",
    "print(\"  *   *  \"*4)\n",
    "print(\"  *****  \"*4)"
   ]
  }
 ],
 "metadata": {
  "kernelspec": {
   "display_name": ".venv",
   "language": "python",
   "name": "python3"
  },
  "language_info": {
   "codemirror_mode": {
    "name": "ipython",
    "version": 3
   },
   "file_extension": ".py",
   "mimetype": "text/x-python",
   "name": "python",
   "nbconvert_exporter": "python",
   "pygments_lexer": "ipython3",
   "version": "3.13.2"
  }
 },
 "nbformat": 4,
 "nbformat_minor": 2
}
