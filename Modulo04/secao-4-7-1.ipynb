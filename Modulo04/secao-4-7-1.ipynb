{
 "cells": [
  {
   "cell_type": "markdown",
   "metadata": {},
   "source": [
    "# 4.7.1 - Exceçoes\n",
    "Tratamento de erros no Python"
   ]
  },
  {
   "cell_type": "code",
   "execution_count": 21,
   "metadata": {},
   "outputs": [
    {
     "name": "stdout",
     "output_type": "stream",
     "text": [
      "ocorreu um erro de conversão! Somente numeros!!\n",
      "Ocorreu um erro de divisão por zero\n",
      "Fim Do Programa!\n"
     ]
    }
   ],
   "source": [
    "# Exemplo de erro de execuçao de codigo\n",
    "try:\n",
    "    valor = int(input(\"Digite um Valor:\"))\n",
    "    print(\"o valor resultante sera: \", 1/valor)\n",
    "    lista = [1,2,3]\n",
    "    print(lista[5])\n",
    "except (ValueError,ZeroDivisionError):\n",
    "    print(\"ocorreu um erro de conversão! Somente numeros!!\")\n",
    "    print(\"Ocorreu um erro de divisão por zero\")\n",
    "except ZeroDivisionError:\n",
    "    print(\"Ocorreu um erro de divisão por zero!\")\n",
    "except Exception as e:\n",
    "    print(\"Outro erro ocorreu\", e) \n",
    "print(\"Fim Do Programa!\")       "
   ]
  }
 ],
 "metadata": {
  "kernelspec": {
   "display_name": ".venv",
   "language": "python",
   "name": "python3"
  },
  "language_info": {
   "codemirror_mode": {
    "name": "ipython",
    "version": 3
   },
   "file_extension": ".py",
   "mimetype": "text/x-python",
   "name": "python",
   "nbconvert_exporter": "python",
   "pygments_lexer": "ipython3",
   "version": "3.13.2"
  }
 },
 "nbformat": 4,
 "nbformat_minor": 2
}
